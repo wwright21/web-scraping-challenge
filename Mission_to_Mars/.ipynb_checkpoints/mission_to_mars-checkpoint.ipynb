{
 "cells": [
  {
   "cell_type": "code",
   "execution_count": 1,
   "id": "790767a6",
   "metadata": {},
   "outputs": [],
   "source": [
    "from bs4 import BeautifulSoup\n",
    "import requests\n",
    "from splinter import Browser\n",
    "import pandas as pd\n",
    "from webdriver_manager.chrome import ChromeDriverManager"
   ]
  },
  {
   "cell_type": "markdown",
   "id": "197482ce",
   "metadata": {},
   "source": [
    "## First scrape:"
   ]
  },
  {
   "cell_type": "code",
   "execution_count": null,
   "id": "33dbfbe9",
   "metadata": {},
   "outputs": [],
   "source": [
    "# Setup splinter\n",
    "executable_path = {'executable_path': 'chromedriver.exe'}\n",
    "browser = Browser('chrome', **executable_path, headless=False)\n",
    "\n",
    "# url we'll use:\n",
    "url = 'https://redplanetscience.com'\n",
    "browser.visit(url)\n",
    "\n",
    "html = browser.html\n",
    "soup = BeautifulSoup(html, 'html.parser')\n",
    "\n",
    "# find the correct div classes\n",
    "all_titles = soup.find_all('div', class_='content_title')\n",
    "all_news_p = soup.find_all('div', class_='article_teaser_body')\n",
    "\n",
    "# store in a variable that grabs the first item in the list and takes just the text\n",
    "first_title = all_titles[0].text\n",
    "first_p = all_news_p[0].text\n",
    "\n",
    "# quit the browser\n",
    "browser.quit()"
   ]
  },
  {
   "cell_type": "markdown",
   "id": "f5cfa101",
   "metadata": {},
   "source": [
    "## Second scrape:"
   ]
  },
  {
   "cell_type": "code",
   "execution_count": 30,
   "id": "bd073cee",
   "metadata": {},
   "outputs": [],
   "source": [
    "# Setup splinter\n",
    "executable_path = {'executable_path': 'chromedriver.exe'}\n",
    "browser = Browser('chrome', **executable_path, headless=False)\n",
    "\n",
    "# url we'll use:\n",
    "url = 'https://spaceimages-mars.com'\n",
    "browser.visit(url)\n",
    "\n",
    "html = browser.html\n",
    "soup = BeautifulSoup(html, 'html.parser')\n",
    "\n",
    "# find featured image and assign to variable\n",
    "featured_image = soup.find(class_='headerimage', src=True)\n",
    "\n",
    "# extract src from image, build and assign url to variable\n",
    "featured_image_url = url + '/' + featured_image.get('src')\n",
    "browser.quit()"
   ]
  },
  {
   "cell_type": "markdown",
   "id": "97b7b7fb",
   "metadata": {},
   "source": [
    "## Third scrape:"
   ]
  },
  {
   "cell_type": "code",
   "execution_count": 38,
   "id": "cd968230",
   "metadata": {},
   "outputs": [
    {
     "data": {
      "text/plain": [
       "'<table border=\"1\" class=\"dataframe\">\\n  <thead>\\n    <tr style=\"text-align: right;\">\\n      <th></th>\\n      <th>0</th>\\n      <th>1</th>\\n    </tr>\\n  </thead>\\n  <tbody>\\n    <tr>\\n      <th>0</th>\\n      <td>Equatorial Diameter:</td>\\n      <td>6,792 km</td>\\n    </tr>\\n    <tr>\\n      <th>1</th>\\n      <td>Polar Diameter:</td>\\n      <td>6,752 km</td>\\n    </tr>\\n    <tr>\\n      <th>2</th>\\n      <td>Mass:</td>\\n      <td>6.39 × 10^23 kg (0.11 Earths)</td>\\n    </tr>\\n    <tr>\\n      <th>3</th>\\n      <td>Moons:</td>\\n      <td>2 ( Phobos &amp; Deimos )</td>\\n    </tr>\\n    <tr>\\n      <th>4</th>\\n      <td>Orbit Distance:</td>\\n      <td>227,943,824 km (1.38 AU)</td>\\n    </tr>\\n    <tr>\\n      <th>5</th>\\n      <td>Orbit Period:</td>\\n      <td>687 days (1.9 years)</td>\\n    </tr>\\n    <tr>\\n      <th>6</th>\\n      <td>Surface Temperature:</td>\\n      <td>-87 to -5 °C</td>\\n    </tr>\\n    <tr>\\n      <th>7</th>\\n      <td>First Record:</td>\\n      <td>2nd millennium BC</td>\\n    </tr>\\n    <tr>\\n      <th>8</th>\\n      <td>Recorded By:</td>\\n      <td>Egyptian astronomers</td>\\n    </tr>\\n  </tbody>\\n</table>'"
      ]
     },
     "execution_count": 38,
     "metadata": {},
     "output_type": "execute_result"
    }
   ],
   "source": [
    "# The URL we will read our data from\n",
    "url = 'https://galaxyfacts-mars.com/'\n",
    "\n",
    "# read_html returns a list of tables from the URL\n",
    "tables = pd.read_html(url)\n",
    "\n",
    "# we want the second table from this and set it equal to a variable\n",
    "mars_planet_profile = tables[1]\n",
    "mars_planet_profile\n",
    "\n",
    "# now convert the table into a HTML string\n",
    "html_table = mars_planet_profile.to_html()\n",
    "html_table"
   ]
  },
  {
   "cell_type": "markdown",
   "id": "f41aac2b",
   "metadata": {},
   "source": [
    "## Fourth scrape:"
   ]
  },
  {
   "cell_type": "code",
   "execution_count": 58,
   "id": "75882f87",
   "metadata": {},
   "outputs": [],
   "source": [
    "# Setup splinter\n",
    "executable_path = {'executable_path': 'chromedriver.exe'}\n",
    "browser = Browser('chrome', **executable_path, headless=False)\n",
    "\n",
    "# extract src from image, build and assign url to variable\n",
    "hemis = ['cerberus','schiaparelli','syrtis','valles']\n",
    "url_list = []\n",
    "\n",
    "for each in hemis:\n",
    "    url = 'https://marshemispheres.com/' + each + '.html'\n",
    "    browser.visit(url)\n",
    "    html = browser.html\n",
    "    soup = BeautifulSoup(html, 'html.parser')\n",
    "    image_link = soup.find(class_='wide-image', src=True)\n",
    "    featured_image_url = 'https://marshemispheres.com/' + image_link.get('src')\n",
    "    url_list.append(featured_image_url)\n",
    "\n",
    "\n",
    "hemisphere_image_urls = [\n",
    "    {\"title\": \"Cerberus Hemisphere\", \"img_url\": url_list[0]},\n",
    "    {\"title\": \"Schiaparelli Hemisphere\", \"img_url\": url_list[1]},\n",
    "    {\"title\": \"Syrtis Major Hemisphere\", \"img_url\": url_list[2]},\n",
    "    {\"title\": \"Valles Marineris Hemisphere\", \"img_url\": url_list[3]}\n",
    "]\n",
    "\n",
    "hemisphere_image_urls\n",
    "\n",
    "# quit the browser\n",
    "browser.quit()"
   ]
  }
 ],
 "metadata": {
  "kernelspec": {
   "display_name": "Python 3 (ipykernel)",
   "language": "python",
   "name": "python3"
  },
  "language_info": {
   "codemirror_mode": {
    "name": "ipython",
    "version": 3
   },
   "file_extension": ".py",
   "mimetype": "text/x-python",
   "name": "python",
   "nbconvert_exporter": "python",
   "pygments_lexer": "ipython3",
   "version": "3.9.7"
  }
 },
 "nbformat": 4,
 "nbformat_minor": 5
}
