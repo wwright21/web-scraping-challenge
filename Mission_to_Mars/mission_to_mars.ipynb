{
 "cells": [
  {
   "cell_type": "code",
   "execution_count": 1,
   "id": "790767a6",
   "metadata": {},
   "outputs": [],
   "source": [
    "from bs4 import BeautifulSoup\n",
    "import requests\n",
    "from splinter import Browser\n",
    "import pandas as pd\n",
    "from webdriver_manager.chrome import ChromeDriverManager"
   ]
  },
  {
   "cell_type": "markdown",
   "id": "197482ce",
   "metadata": {},
   "source": [
    "## First scrape:"
   ]
  },
  {
   "cell_type": "code",
   "execution_count": null,
   "id": "1041e8af",
   "metadata": {},
   "outputs": [],
   "source": [
    "# Setup splinter\n",
    "executable_path = {'executable_path': 'chromedriver.exe'}\n",
    "browser = Browser('chrome', **executable_path, headless=False)\n",
    "\n",
    "# url we'll use:\n",
    "url = 'https://redplanetscience.com'\n",
    "browser.visit(url)\n",
    "\n",
    "html = browser.html\n",
    "soup = BeautifulSoup(html, 'html.parser')\n",
    "\n",
    "# find the correct div classes\n",
    "all_titles = soup.find_all('div', class_='content_title')\n",
    "all_news_p = soup.find_all('div', class_='article_teaser_body')\n",
    "\n",
    "# store in a variable that grabs the first item in the list and takes just the text\n",
    "first_title = all_titles[0].text\n",
    "first_p = all_news_p[0].text\n",
    "\n",
    "# quite the browser\n",
    "browser.quit()"
   ]
  },
  {
   "cell_type": "markdown",
   "id": "f5cfa101",
   "metadata": {},
   "source": [
    "## Second scrape:"
   ]
  },
  {
   "cell_type": "code",
   "execution_count": 30,
   "id": "518c4a13",
   "metadata": {},
   "outputs": [],
   "source": [
    "# Setup splinter\n",
    "executable_path = {'executable_path': 'chromedriver.exe'}\n",
    "browser = Browser('chrome', **executable_path, headless=False)\n",
    "\n",
    "# url we'll use:\n",
    "url = 'https://spaceimages-mars.com'\n",
    "browser.visit(url)\n",
    "\n",
    "html = browser.html\n",
    "soup = BeautifulSoup(html, 'html.parser')\n",
    "\n",
    "# find featured image and assign to variable\n",
    "featured_image = soup.find(class_='headerimage', src=True)\n",
    "\n",
    "# extract src from image, build and assign url to variable\n",
    "featured_image_url = url + '/' + featured_image.get('src')\n",
    "featured_image_url\n",
    "browser.quit()"
   ]
  },
  {
   "cell_type": "markdown",
   "id": "97b7b7fb",
   "metadata": {},
   "source": [
    "## Third scrape:"
   ]
  },
  {
   "cell_type": "code",
   "execution_count": null,
   "id": "1bd99e3c",
   "metadata": {},
   "outputs": [],
   "source": [
    "# The URL we will read our data from\n",
    "url = 'https://galaxyfacts-mars.com/'\n",
    "# read_html returns a list of tables from the URL\n",
    "tables = pd.read_html(url)\n",
    "tables"
   ]
  },
  {
   "cell_type": "markdown",
   "id": "f41aac2b",
   "metadata": {},
   "source": [
    "## Fourth scrape:"
   ]
  }
 ],
 "metadata": {
  "kernelspec": {
   "display_name": "Python 3 (ipykernel)",
   "language": "python",
   "name": "python3"
  },
  "language_info": {
   "codemirror_mode": {
    "name": "ipython",
    "version": 3
   },
   "file_extension": ".py",
   "mimetype": "text/x-python",
   "name": "python",
   "nbconvert_exporter": "python",
   "pygments_lexer": "ipython3",
   "version": "3.9.7"
  }
 },
 "nbformat": 4,
 "nbformat_minor": 5
}
